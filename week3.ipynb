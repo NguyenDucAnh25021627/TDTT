{
 "cells": [
  {
   "cell_type": "code",
   "execution_count": null,
   "id": "05610072",
   "metadata": {},
   "outputs": [
    {
     "name": "stdout",
     "output_type": "stream",
     "text": [
      "423\n"
     ]
    }
   ],
   "source": [
    "n = input(\"Nhap so nguyen n:\")\n",
    "print(n[::-1])"
   ]
  },
  {
   "cell_type": "code",
   "execution_count": 11,
   "id": "94502bec",
   "metadata": {},
   "source": [
    "a,b = map(int,input(\"Input a and b: \").split())\n",
    "a = a^b\n",
    "b = a^b\n",
    "a = b^a\n",
    "print(a,b)"
   ]
  },
  {
   "cell_type": "code",
   "execution_count": null,
   "id": "c1b29d47",
   "metadata": {},
   "outputs": [],
   "source": [
    "n = int(input(\"Nhap n: \"))\n",
    "if (n&(n-1) == 0):\n",
    "    print(\"Luy thua cua 2\")\n",
    "else:\n",
    "    print(\"Khong phai luy thua cua 2\")    "
   ]
  },
  {
   "cell_type": "code",
   "execution_count": 14,
   "id": "f45a77ed",
   "metadata": {},
   "outputs": [
    {
     "name": "stdout",
     "output_type": "stream",
     "text": [
      "1\n"
     ]
    }
   ],
   "source": [
    "m ,n = map(int,input(\"Nhap m va n:\").split())\n",
    "print(m//n)"
   ]
  },
  {
   "cell_type": "code",
   "execution_count": null,
   "id": "a68e18a9",
   "metadata": {},
   "outputs": [],
   "source": [
    "import math\n",
    "m ,n = map(int,input(\"Nhap m va n:\").split())\n",
    "print(math.ceil(m/n))"
   ]
  },
  {
   "cell_type": "code",
   "execution_count": null,
   "id": "fd27725a",
   "metadata": {},
   "outputs": [],
   "source": [
    "x = int(\"Nhap so x: \")\n",
    "if x % 2 == 0:\n",
    "    print(\"Even\")\n",
    "else:\n",
    "    print(\"Odd\")"
   ]
  },
  {
   "cell_type": "code",
   "execution_count": null,
   "id": "4f94a51b",
   "metadata": {},
   "outputs": [],
   "source": [
    "a ,b = map(int,input(\"Nhap a va b:\").split())\n",
    "if a < 0 and b < 0:\n",
    "    print(\"Yes\")\n",
    "else:\n",
    "    print(\"No\")\n"
   ]
  },
  {
   "cell_type": "code",
   "execution_count": null,
   "id": "659190a1",
   "metadata": {},
   "outputs": [
    {
     "name": "stdout",
     "output_type": "stream",
     "text": [
      "hi hello\n",
      "False\n"
     ]
    }
   ],
   "source": [
    "a ,b = input(\"Nhap a va b:\").split()\n",
    "if len(a) > len(b):\n",
    "    print(\"True\")\n",
    "else:\n",
    "    print(\"False\")    "
   ]
  },
  {
   "cell_type": "code",
   "execution_count": 21,
   "id": "76e9e4d5",
   "metadata": {},
   "outputs": [
    {
     "name": "stdout",
     "output_type": "stream",
     "text": [
      "No\n"
     ]
    }
   ],
   "source": [
    "a ,b ,c = map(int,input(\"Nhap a va b va c:\").split())\n",
    "if (a+b>c) and (a+c>b) and (b+c>a):\n",
    "    print(\"Yes\")\n",
    "else: \n",
    "    print (\"No\") "
   ]
  },
  {
   "cell_type": "code",
   "execution_count": 22,
   "id": "c2837771",
   "metadata": {},
   "outputs": [
    {
     "name": "stdout",
     "output_type": "stream",
     "text": [
      "So nguyen lon nhat 4\n"
     ]
    }
   ],
   "source": [
    "a ,b ,c ,d= map(int,input(\"Nhap a va b va c va d:\").split())\n",
    "print(f\"So nguyen lon nhat {max(a,b,c,d)}\")\n"
   ]
  },
  {
   "cell_type": "code",
   "execution_count": 25,
   "id": "d94050ee",
   "metadata": {},
   "outputs": [
    {
     "name": "stdout",
     "output_type": "stream",
     "text": [
      "Tam giac deu\n"
     ]
    }
   ],
   "source": [
    "a ,b ,c = map(int,input(\"Nhap a va b va c:\").split())\n",
    "if (a+b>c) and (a+c>b) and (b+c>a):\n",
    "    if a == b and a == c:\n",
    "        print(\"Tam giac deu\")\n",
    "    elif (a == b) or (a == c) or (b == c):\n",
    "        print(\"Tam giac can\")\n",
    "    else:\n",
    "        print(\"Tam giac thuong\")\n",
    "else: \n",
    "    print (\"Khong phai tam giac\") "
   ]
  },
  {
   "cell_type": "code",
   "execution_count": null,
   "id": "44e6c7af",
   "metadata": {},
   "outputs": [
    {
     "name": "stdout",
     "output_type": "stream",
     "text": [
      "Yes\n"
     ]
    }
   ],
   "source": [
    "x = int(input(\"Nhap nam: \"))\n",
    "if (x % 400 == 0) or (x % 4 == 0 and x % 100 != 0):\n",
    "    print(\"Yes\")\n",
    "else:\n",
    "    print(\"No\")"
   ]
  },
  {
   "cell_type": "code",
   "execution_count": null,
   "id": "601c06d2",
   "metadata": {},
   "outputs": [],
   "source": [
    "sodien = int (input(\"Nhap so dien kwh: \"))\n",
    "\n",
    "price = 0\n",
    "\n",
    "if 0 <=  sodien <= 50:\n",
    "    price = 1500\n",
    "elif sodien <= 100:\n",
    "    price = 2000\n",
    "else:\n",
    "    price = 3000\n",
    "print(f\"Tien dien: {sodien * price}\")"
   ]
  },
  {
   "cell_type": "code",
   "execution_count": 34,
   "id": "919fe9ae",
   "metadata": {},
   "outputs": [
    {
     "name": "stdout",
     "output_type": "stream",
     "text": [
      "-3.33\n"
     ]
    }
   ],
   "source": [
    "a ,b = map(int,input(\"Nhap a va b:\").split())\n",
    "if a == 0 and b != 0 :\n",
    "    print(\"Vo nghiem\")\n",
    "elif a == 0 and b == 0:\n",
    "    print(\"Vo so nghiem\")\n",
    "else:\n",
    "    print(round(-b/a,2))"
   ]
  },
  {
   "cell_type": "code",
   "execution_count": null,
   "id": "80b4150c",
   "metadata": {},
   "outputs": [],
   "source": [
    "diem = int(input(\"Nhap diem:\"))\n",
    "if diem >= 8:\n",
    "    print(\"Gioi\")\n",
    "elif diem >= 6.5:\n",
    "    print(\"Kha\")\n",
    "elif diem >= 5:\n",
    "    print(\"Trung binh\")\n",
    "else:\n",
    "    print(\"Yeu\")"
   ]
  },
  {
   "cell_type": "code",
   "execution_count": 41,
   "id": "8a1bcb8e",
   "metadata": {},
   "outputs": [
    {
     "name": "stdout",
     "output_type": "stream",
     "text": [
      "3.0 2.0 3.0\n"
     ]
    }
   ],
   "source": [
    "x = float(input(\"Input x:\"))\n",
    "ceil = x//1 + 1\n",
    "floor = x//1\n",
    "closet = 0\n",
    "if x - floor < .5:\n",
    "    closet = floor\n",
    "else:\n",
    "    closet = ceil\n",
    "print(ceil,floor,closet)"
   ]
  }
 ],
 "metadata": {
  "kernelspec": {
   "display_name": "Python 3",
   "language": "python",
   "name": "python3"
  },
  "language_info": {
   "codemirror_mode": {
    "name": "ipython",
    "version": 3
   },
   "file_extension": ".py",
   "mimetype": "text/x-python",
   "name": "python",
   "nbconvert_exporter": "python",
   "pygments_lexer": "ipython3",
   "version": "3.13.7"
  }
 },
 "nbformat": 4,
 "nbformat_minor": 5
}
